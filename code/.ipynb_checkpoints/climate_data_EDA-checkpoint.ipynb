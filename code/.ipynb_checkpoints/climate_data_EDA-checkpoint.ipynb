{
 "cells": [
  {
   "cell_type": "markdown",
   "metadata": {},
   "source": [
    "### Basic package imports"
   ]
  },
  {
   "cell_type": "code",
   "execution_count": 2,
   "metadata": {},
   "outputs": [],
   "source": [
    "import netCDF4 as nc"
   ]
  },
  {
   "cell_type": "markdown",
   "metadata": {},
   "source": [
    "### Data read"
   ]
  },
  {
   "cell_type": "code",
   "execution_count": 5,
   "metadata": {},
   "outputs": [],
   "source": [
    "# Setting input file path (location of the data)\n",
    "\n",
    "file_path = '../resources/HadCRUT.4.6.0.0.median.nc'"
   ]
  },
  {
   "cell_type": "code",
   "execution_count": 6,
   "metadata": {},
   "outputs": [],
   "source": [
    "# Reading the data\n",
    "\n",
    "data = nc.Dataset(file_path)"
   ]
  },
  {
   "cell_type": "code",
   "execution_count": 37,
   "metadata": {},
   "outputs": [
    {
     "name": "stdout",
     "output_type": "stream",
     "text": [
      "OrderedDict([('title', 'HadCRUT4 near-surface temperature ensemble data - ensemble median'), ('institution', 'Met Office Hadley Centre / Climatic Research Unit, University of East Anglia'), ('history', 'Updated at 27/10/2020 11:20:18'), ('source', 'CRUTEM.4.6.0.0, HadSST.3.1.1.0'), ('comment', ''), ('reference', 'Morice, C. P., J. J. Kennedy, N. A. Rayner, and P. D. Jones (2012), Quantifying uncertainties in global and regional temperature change using an ensemble of observational estimates: The HadCRUT4 dataset, J. Geophys. Res., doi:10.1029/2011JD017187'), ('version', 'HadCRUT.4.6.0.0'), ('Conventions', 'CF-1.0'), ('ensemble_members', 100), ('ensemble_member_index', 0)])\n"
     ]
    }
   ],
   "source": [
    "# Printing metadata \n",
    "\n",
    "print(data.__dict__)"
   ]
  },
  {
   "cell_type": "code",
   "execution_count": 8,
   "metadata": {},
   "outputs": [
    {
     "name": "stdout",
     "output_type": "stream",
     "text": [
      "<class 'netCDF4._netCDF4.Dataset'>\n",
      "root group (NETCDF4 data model, file format HDF5):\n",
      "    title: HadCRUT4 near-surface temperature ensemble data - ensemble median\n",
      "    institution: Met Office Hadley Centre / Climatic Research Unit, University of East Anglia\n",
      "    history: Updated at 27/10/2020 11:20:18\n",
      "    source: CRUTEM.4.6.0.0, HadSST.3.1.1.0\n",
      "    comment: \n",
      "    reference: Morice, C. P., J. J. Kennedy, N. A. Rayner, and P. D. Jones (2012), Quantifying uncertainties in global and regional temperature change using an ensemble of observational estimates: The HadCRUT4 dataset, J. Geophys. Res., doi:10.1029/2011JD017187\n",
      "    version: HadCRUT.4.6.0.0\n",
      "    Conventions: CF-1.0\n",
      "    ensemble_members: 100\n",
      "    ensemble_member_index: 0\n",
      "    dimensions(sizes): latitude(36), longitude(72), field_status_string_length(1), time(2049)\n",
      "    variables(dimensions): float32 latitude(latitude), float32 longitude(longitude), float32 time(time), float32 temperature_anomaly(time, latitude, longitude), |S1 field_status(time, field_status_string_length)\n",
      "    groups: \n"
     ]
    }
   ],
   "source": [
    "# Printing the dataset\n",
    "\n",
    "print(data)"
   ]
  },
  {
   "cell_type": "code",
   "execution_count": 20,
   "metadata": {},
   "outputs": [
    {
     "name": "stdout",
     "output_type": "stream",
     "text": [
      "<class 'netCDF4._netCDF4.Variable'>\n",
      "float32 latitude(latitude)\n",
      "    standard_name: latitude\n",
      "    long_name: latitude\n",
      "    point_spacing: even\n",
      "    units: degrees_north\n",
      "    axis: Y\n",
      "unlimited dimensions: \n",
      "current shape = (36,)\n",
      "filling on, default _FillValue of 9.969209968386869e+36 used\n",
      "\n",
      "==============================\n",
      "\n",
      "<class 'netCDF4._netCDF4.Variable'>\n",
      "float32 longitude(longitude)\n",
      "    standard_name: longitude\n",
      "    long_name: longitude\n",
      "    point_spacing: even\n",
      "    units: degrees_east\n",
      "    axis: X\n",
      "unlimited dimensions: \n",
      "current shape = (72,)\n",
      "filling on, default _FillValue of 9.969209968386869e+36 used\n",
      "\n",
      "==============================\n",
      "\n",
      "<class 'netCDF4._netCDF4.Variable'>\n",
      "float32 time(time)\n",
      "    standard_name: time\n",
      "    long_name: time\n",
      "    units: days since 1850-1-1 00:00:00\n",
      "    calendar: gregorian\n",
      "    start_year: 1850\n",
      "    end_year: 2020\n",
      "    start_month: 1\n",
      "    end_month: 9\n",
      "    axis: T\n",
      "unlimited dimensions: time\n",
      "current shape = (2049,)\n",
      "filling on, default _FillValue of 9.969209968386869e+36 used\n",
      "\n",
      "==============================\n",
      "\n",
      "<class 'netCDF4._netCDF4.Variable'>\n",
      "float32 temperature_anomaly(time, latitude, longitude)\n",
      "    long_name: near_surface_temperature_anomaly\n",
      "    units: K\n",
      "    missing_value: -1e+30\n",
      "    _FillValue: -1e+30\n",
      "    reference_period: [1961 1990]\n",
      "unlimited dimensions: time\n",
      "current shape = (2049, 36, 72)\n",
      "filling on\n",
      "\n",
      "==============================\n",
      "\n",
      "<class 'netCDF4._netCDF4.Variable'>\n",
      "|S1 field_status(time, field_status_string_length)\n",
      "    long_name: field_status\n",
      "unlimited dimensions: time\n",
      "current shape = (2049, 1)\n",
      "filling on, default _FillValue of \u0000 used\n",
      "\n",
      "==============================\n",
      "\n"
     ]
    }
   ],
   "source": [
    "# Printing variable metadata\n",
    "\n",
    "for var in data.variables.values():\n",
    "    print(var)\n",
    "    print('\\n==============================\\n')"
   ]
  },
  {
   "cell_type": "code",
   "execution_count": 38,
   "metadata": {},
   "outputs": [
    {
     "name": "stdout",
     "output_type": "stream",
     "text": [
      "['standard_name', 'long_name', 'point_spacing', 'units', 'axis']\n",
      "['latitude', 'latitude', 'even', 'degrees_north', 'Y']\n",
      "\n",
      "==============================\n",
      "\n",
      "['standard_name', 'long_name', 'point_spacing', 'units', 'axis']\n",
      "['longitude', 'longitude', 'even', 'degrees_east', 'X']\n",
      "\n",
      "==============================\n",
      "\n",
      "['standard_name', 'long_name', 'units', 'calendar', 'start_year', 'end_year', 'start_month', 'end_month', 'axis']\n",
      "['time', 'time', 'days since 1850-1-1 00:00:00', 'gregorian', 1850, 2020, 1, 9, 'T']\n",
      "\n",
      "==============================\n",
      "\n",
      "['long_name', 'units', 'missing_value', '_FillValue', 'reference_period']\n",
      "['near_surface_temperature_anomaly', 'K', -1e+30, -1e+30, array([1961, 1990], dtype=int16)]\n",
      "\n",
      "==============================\n",
      "\n",
      "['long_name']\n",
      "['field_status']\n",
      "\n",
      "==============================\n",
      "\n"
     ]
    }
   ],
   "source": [
    "# Printing the variable metadata in a cleaned format\n",
    "\n",
    "for var in data.variables.values():\n",
    "    print(list(vars(var).keys()))\n",
    "    print(list(vars(var).values()))\n",
    "    print('\\n==============================\\n')"
   ]
  },
  {
   "cell_type": "markdown",
   "metadata": {},
   "source": [
    "### Obtaining Data values"
   ]
  },
  {
   "cell_type": "code",
   "execution_count": 53,
   "metadata": {},
   "outputs": [],
   "source": [
    "#values = data['field_status'][:]\n",
    "#values = data['time'][:]\n",
    "#values = data['longitude'][:]\n",
    "values = data['latitude'][:]"
   ]
  },
  {
   "cell_type": "code",
   "execution_count": 54,
   "metadata": {},
   "outputs": [
    {
     "data": {
      "text/plain": [
       "(36,)"
      ]
     },
     "execution_count": 54,
     "metadata": {},
     "output_type": "execute_result"
    }
   ],
   "source": [
    "values.shape"
   ]
  },
  {
   "cell_type": "code",
   "execution_count": 55,
   "metadata": {},
   "outputs": [
    {
     "data": {
      "text/plain": [
       "masked_array(data=[-87.5, -82.5, -77.5, -72.5, -67.5, -62.5, -57.5, -52.5,\n",
       "                   -47.5, -42.5, -37.5, -32.5, -27.5, -22.5, -17.5, -12.5,\n",
       "                    -7.5,  -2.5,   2.5,   7.5,  12.5,  17.5,  22.5,  27.5,\n",
       "                    32.5,  37.5,  42.5,  47.5,  52.5,  57.5,  62.5,  67.5,\n",
       "                    72.5,  77.5,  82.5,  87.5],\n",
       "             mask=False,\n",
       "       fill_value=1e+20,\n",
       "            dtype=float32)"
      ]
     },
     "execution_count": 55,
     "metadata": {},
     "output_type": "execute_result"
    }
   ],
   "source": [
    "values"
   ]
  },
  {
   "cell_type": "code",
   "execution_count": null,
   "metadata": {},
   "outputs": [],
   "source": []
  }
 ],
 "metadata": {
  "kernelspec": {
   "display_name": "Python 3",
   "language": "python",
   "name": "python3"
  },
  "language_info": {
   "codemirror_mode": {
    "name": "ipython",
    "version": 3
   },
   "file_extension": ".py",
   "mimetype": "text/x-python",
   "name": "python",
   "nbconvert_exporter": "python",
   "pygments_lexer": "ipython3",
   "version": "3.6.9"
  }
 },
 "nbformat": 4,
 "nbformat_minor": 2
}
